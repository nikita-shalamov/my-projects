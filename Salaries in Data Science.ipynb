{
 "cells": [
  {
   "cell_type": "code",
   "execution_count": 2,
   "id": "c26e7213",
   "metadata": {},
   "outputs": [],
   "source": [
    "import pandas as pd\n",
    "import numpy as np\n",
    "import seaborn as sns\n",
    "%matplotlib inline \n",
    "import matplotlib.pyplot as plt"
   ]
  },
  {
   "cell_type": "code",
   "execution_count": 3,
   "id": "1c1007a2",
   "metadata": {},
   "outputs": [],
   "source": [
    "df = pd.read_csv('ds_salaries.csv')"
   ]
  },
  {
   "cell_type": "code",
   "execution_count": 4,
   "id": "3ec51989",
   "metadata": {},
   "outputs": [],
   "source": [
    "del df['Unnamed: 0']"
   ]
  },
  {
   "cell_type": "markdown",
   "id": "97d1418d",
   "metadata": {},
   "source": [
    "Важно! В данных небольшая выборка. Она не отражает реальность IT сферы. Поэтому нельзя использовать этот Dataset для вывода статистических данных по отрасли. НО! Он идеально подходит новичкам для тренировок, так как содержит множество показателей и зависимостей, которые можно вывести."
   ]
  },
  {
   "cell_type": "code",
   "execution_count": 6,
   "id": "5ee5e3db",
   "metadata": {},
   "outputs": [
    {
     "data": {
      "text/plain": [
       "(607, 11)"
      ]
     },
     "execution_count": 6,
     "metadata": {},
     "output_type": "execute_result"
    }
   ],
   "source": [
    "df.shape"
   ]
  },
  {
   "cell_type": "code",
   "execution_count": 14,
   "id": "1ed1940a",
   "metadata": {},
   "outputs": [],
   "source": [
    "df = df.rename(columns={'job_title': 'job'})"
   ]
  },
  {
   "cell_type": "markdown",
   "id": "cb2f651d",
   "metadata": {},
   "source": [
    "Оставляю только 4 профессии, так как в других недостаточно большая выборка"
   ]
  },
  {
   "cell_type": "code",
   "execution_count": 15,
   "id": "a3dd6b88",
   "metadata": {},
   "outputs": [],
   "source": [
    "list_ds = ['Data Scientist', 'Data Engineer', 'Data Analyst', 'Machine Learning Engineer']\n",
    "df = df.query('job in @list_ds')"
   ]
  },
  {
   "cell_type": "markdown",
   "id": "088e762d",
   "metadata": {},
   "source": [
    "Сделаю подсчет разных значений по колонкам, чтобы понимать, каких данных больше и их в дальнейшем использовать"
   ]
  },
  {
   "cell_type": "code",
   "execution_count": 16,
   "id": "51978db5",
   "metadata": {},
   "outputs": [
    {
     "data": {
      "text/plain": [
       "Data Scientist               143\n",
       "Data Engineer                132\n",
       "Data Analyst                  97\n",
       "Machine Learning Engineer     41\n",
       "Name: job, dtype: int64"
      ]
     },
     "execution_count": 16,
     "metadata": {},
     "output_type": "execute_result"
    }
   ],
   "source": [
    "df.job.value_counts()"
   ]
  },
  {
   "cell_type": "code",
   "execution_count": 58,
   "id": "bcdfdb25",
   "metadata": {},
   "outputs": [
    {
     "data": {
      "text/plain": [
       "SE    198\n",
       "MI    154\n",
       "EN     55\n",
       "EX      6\n",
       "Name: experience_level, dtype: int64"
      ]
     },
     "execution_count": 58,
     "metadata": {},
     "output_type": "execute_result"
    }
   ],
   "source": [
    "df.experience_level.value_counts()"
   ]
  },
  {
   "cell_type": "code",
   "execution_count": 63,
   "id": "3c4b1bcd",
   "metadata": {},
   "outputs": [
    {
     "data": {
      "text/plain": [
       "US    256\n",
       "GB     39\n",
       "DE     16\n",
       "IN     14\n",
       "Name: company_location, dtype: int64"
      ]
     },
     "execution_count": 63,
     "metadata": {},
     "output_type": "execute_result"
    }
   ],
   "source": [
    "df.company_location.value_counts().head(4)"
   ]
  },
  {
   "cell_type": "markdown",
   "id": "75820d1f",
   "metadata": {},
   "source": [
    "Посмотрим в какой стране наиболее высокие зарплаты средние зарплаты в Data Science у Middle специалистов"
   ]
  },
  {
   "cell_type": "code",
   "execution_count": 24,
   "id": "b738e294",
   "metadata": {},
   "outputs": [
    {
     "data": {
      "image/png": "[encoded data removed]",
      "text/plain": [
       "<Figure size 432x288 with 1 Axes>"
      ]
     },
     "metadata": {
      "needs_background": "light"
     },
     "output_type": "display_data"
    }
   ],
   "source": [
    "ds_salaries = df.query('job== \"Data Scientist\" & employment_type == \"FT\" & experience_level == \"MI\"') \\\n",
    "  .groupby(['job', 'company_location'], as_index=False) \\\n",
    "  .agg({'salary_in_usd': 'mean'}) \\\n",
    "  .sort_values('salary_in_usd', ascending=False).head()\n",
    "\n",
    "g = sns.barplot(data=ds_salaries, x='company_location', y = 'salary_in_usd')\n",
    "g.set(xticklabels=[\"USA\", \"China\", \"Israel\", 'United Kingdom', 'Australia']);"
   ]
  },
  {
   "cell_type": "markdown",
   "id": "52a869a8",
   "metadata": {},
   "source": [
    "Проверим, если ли какая-то корреляция/зависимость между страной происхождения человека и его зарплатой"
   ]
  },
  {
   "cell_type": "code",
   "execution_count": 51,
   "id": "5bf89979",
   "metadata": {},
   "outputs": [],
   "source": [
    "df_middles_ds = df.query('experience_level == \"MI\" & job == \"Data Scientist\" & company_location == \"US\"')"
   ]
  },
  {
   "cell_type": "code",
   "execution_count": 52,
   "id": "f21cf407",
   "metadata": {},
   "outputs": [
    {
     "data": {
      "text/plain": [
       "<AxesSubplot:xlabel='employee_residence', ylabel='salary_in_usd'>"
      ]
     },
     "execution_count": 52,
     "metadata": {},
     "output_type": "execute_result"
    },
    {
     "data": {
      "image/png": "[encoded data removed]",
      "text/plain": [
       "<Figure size 432x288 with 1 Axes>"
      ]
     },
     "metadata": {
      "needs_background": "light"
     },
     "output_type": "display_data"
    }
   ],
   "source": [
    "salary_of_emp_countries = df_middles_ds \\\n",
    "    .groupby('employee_residence', as_index=False) \\\n",
    "    .agg({'salary_in_usd': 'mean'}) \\\n",
    "    .sort_values('salary_in_usd', ascending=False)\n",
    "\n",
    "sns.barplot(data=salary_of_emp_countries, x='employee_residence', y='salary_in_usd')\n"
   ]
  },
  {
   "cell_type": "code",
   "execution_count": null,
   "id": "d4959c68",
   "metadata": {},
   "outputs": [],
   "source": []
  }
 ],
 "metadata": {
  "kernelspec": {
   "display_name": "Python 3 (ipykernel)",
   "language": "python",
   "name": "python3"
  },
  "language_info": {
   "codemirror_mode": {
    "name": "ipython",
    "version": 3
   },
   "file_extension": ".py",
   "mimetype": "text/x-python",
   "name": "python",
   "nbconvert_exporter": "python",
   "pygments_lexer": "ipython3",
   "version": "3.9.12"
  }
 },
 "nbformat": 4,
 "nbformat_minor": 5
}
