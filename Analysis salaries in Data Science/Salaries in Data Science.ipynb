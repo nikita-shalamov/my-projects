{
 "cells": [
  {
   "cell_type": "code",
   "execution_count": 1,
   "id": "c26e7213",
   "metadata": {},
   "outputs": [],
   "source": [
    "import pandas as pd\n",
    "import numpy as np\n",
    "import seaborn as sns\n",
    "%matplotlib inline \n",
    "import matplotlib.pyplot as plt"
   ]
  },
  {
   "cell_type": "code",
   "execution_count": 2,
   "id": "1c1007a2",
   "metadata": {},
   "outputs": [],
   "source": [
    "df = pd.read_csv('ds_salaries.csv')"
   ]
  },
  {
   "cell_type": "code",
   "execution_count": 3,
   "id": "3ec51989",
   "metadata": {},
   "outputs": [],
   "source": [
    "del df['Unnamed: 0']"
   ]
  },
  {
   "cell_type": "markdown",
   "id": "97d1418d",
   "metadata": {},
   "source": [
    "Важно! В данных небольшая выборка. Она не отражает реальность IT сферы. Поэтому нельзя использовать этот Dataset для вывода статистических данных по отрасли. НО! Он идеально подходит новичкам для тренировок, так как содержит множество показателей и зависимостей, которые можно вывести."
   ]
  },
  {
   "cell_type": "code",
   "execution_count": 4,
   "id": "5ee5e3db",
   "metadata": {},
   "outputs": [
    {
     "data": {
      "text/plain": [
       "(607, 11)"
      ]
     },
     "execution_count": 4,
     "metadata": {},
     "output_type": "execute_result"
    }
   ],
   "source": [
    "df.shape"
   ]
  },
  {
   "cell_type": "code",
   "execution_count": 5,
   "id": "1ed1940a",
   "metadata": {},
   "outputs": [],
   "source": [
    "df = df.rename(columns={'job_title': 'job'})"
   ]
  },
  {
   "cell_type": "markdown",
   "id": "cb2f651d",
   "metadata": {},
   "source": [
    "Оставляю только 4 профессии, так как в других недостаточно большая выборка"
   ]
  },
  {
   "cell_type": "code",
   "execution_count": 6,
   "id": "a3dd6b88",
   "metadata": {},
   "outputs": [],
   "source": [
    "list_ds = ['Data Scientist', 'Data Engineer', 'Data Analyst', 'Machine Learning Engineer']\n",
    "df = df.query('job in @list_ds')"
   ]
  },
  {
   "cell_type": "code",
   "execution_count": 67,
   "id": "a670b63c",
   "metadata": {},
   "outputs": [
    {
     "data": {
      "text/html": [
       "<div>\n",
       "<style scoped>\n",
       "    .dataframe tbody tr th:only-of-type {\n",
       "        vertical-align: middle;\n",
       "    }\n",
       "\n",
       "    .dataframe tbody tr th {\n",
       "        vertical-align: top;\n",
       "    }\n",
       "\n",
       "    .dataframe thead th {\n",
       "        text-align: right;\n",
       "    }\n",
       "</style>\n",
       "<table border=\"1\" class=\"dataframe\">\n",
       "  <thead>\n",
       "    <tr style=\"text-align: right;\">\n",
       "      <th></th>\n",
       "      <th>work_year</th>\n",
       "      <th>experience_level</th>\n",
       "      <th>employment_type</th>\n",
       "      <th>job</th>\n",
       "      <th>salary</th>\n",
       "      <th>salary_currency</th>\n",
       "      <th>salary_in_usd</th>\n",
       "      <th>employee_residence</th>\n",
       "      <th>remote_ratio</th>\n",
       "      <th>company_location</th>\n",
       "      <th>company_size</th>\n",
       "    </tr>\n",
       "  </thead>\n",
       "  <tbody>\n",
       "    <tr>\n",
       "      <th>0</th>\n",
       "      <td>2020</td>\n",
       "      <td>MI</td>\n",
       "      <td>FT</td>\n",
       "      <td>Data Scientist</td>\n",
       "      <td>70000</td>\n",
       "      <td>EUR</td>\n",
       "      <td>79833</td>\n",
       "      <td>DE</td>\n",
       "      <td>0</td>\n",
       "      <td>DE</td>\n",
       "      <td>L</td>\n",
       "    </tr>\n",
       "    <tr>\n",
       "      <th>4</th>\n",
       "      <td>2020</td>\n",
       "      <td>SE</td>\n",
       "      <td>FT</td>\n",
       "      <td>Machine Learning Engineer</td>\n",
       "      <td>150000</td>\n",
       "      <td>USD</td>\n",
       "      <td>150000</td>\n",
       "      <td>US</td>\n",
       "      <td>50</td>\n",
       "      <td>US</td>\n",
       "      <td>L</td>\n",
       "    </tr>\n",
       "    <tr>\n",
       "      <th>5</th>\n",
       "      <td>2020</td>\n",
       "      <td>EN</td>\n",
       "      <td>FT</td>\n",
       "      <td>Data Analyst</td>\n",
       "      <td>72000</td>\n",
       "      <td>USD</td>\n",
       "      <td>72000</td>\n",
       "      <td>US</td>\n",
       "      <td>100</td>\n",
       "      <td>US</td>\n",
       "      <td>L</td>\n",
       "    </tr>\n",
       "    <tr>\n",
       "      <th>7</th>\n",
       "      <td>2020</td>\n",
       "      <td>MI</td>\n",
       "      <td>FT</td>\n",
       "      <td>Data Scientist</td>\n",
       "      <td>11000000</td>\n",
       "      <td>HUF</td>\n",
       "      <td>35735</td>\n",
       "      <td>HU</td>\n",
       "      <td>50</td>\n",
       "      <td>HU</td>\n",
       "      <td>L</td>\n",
       "    </tr>\n",
       "    <tr>\n",
       "      <th>10</th>\n",
       "      <td>2020</td>\n",
       "      <td>EN</td>\n",
       "      <td>FT</td>\n",
       "      <td>Data Scientist</td>\n",
       "      <td>45000</td>\n",
       "      <td>EUR</td>\n",
       "      <td>51321</td>\n",
       "      <td>FR</td>\n",
       "      <td>0</td>\n",
       "      <td>FR</td>\n",
       "      <td>S</td>\n",
       "    </tr>\n",
       "  </tbody>\n",
       "</table>\n",
       "</div>"
      ],
      "text/plain": [
       "    work_year experience_level employment_type                        job  \\\n",
       "0        2020               MI              FT             Data Scientist   \n",
       "4        2020               SE              FT  Machine Learning Engineer   \n",
       "5        2020               EN              FT               Data Analyst   \n",
       "7        2020               MI              FT             Data Scientist   \n",
       "10       2020               EN              FT             Data Scientist   \n",
       "\n",
       "      salary salary_currency  salary_in_usd employee_residence  remote_ratio  \\\n",
       "0      70000             EUR          79833                 DE             0   \n",
       "4     150000             USD         150000                 US            50   \n",
       "5      72000             USD          72000                 US           100   \n",
       "7   11000000             HUF          35735                 HU            50   \n",
       "10     45000             EUR          51321                 FR             0   \n",
       "\n",
       "   company_location company_size  \n",
       "0                DE            L  \n",
       "4                US            L  \n",
       "5                US            L  \n",
       "7                HU            L  \n",
       "10               FR            S  "
      ]
     },
     "execution_count": 67,
     "metadata": {},
     "output_type": "execute_result"
    }
   ],
   "source": [
    "df.head(5)"
   ]
  },
  {
   "cell_type": "markdown",
   "id": "088e762d",
   "metadata": {},
   "source": [
    "Сделаю подсчет разных значений по колонкам, чтобы понимать, каких данных больше и их в дальнейшем использовать"
   ]
  },
  {
   "cell_type": "code",
   "execution_count": 7,
   "id": "51978db5",
   "metadata": {},
   "outputs": [
    {
     "data": {
      "text/plain": [
       "Data Scientist               143\n",
       "Data Engineer                132\n",
       "Data Analyst                  97\n",
       "Machine Learning Engineer     41\n",
       "Name: job, dtype: int64"
      ]
     },
     "execution_count": 7,
     "metadata": {},
     "output_type": "execute_result"
    }
   ],
   "source": [
    "df.job.value_counts()"
   ]
  },
  {
   "cell_type": "code",
   "execution_count": 8,
   "id": "bcdfdb25",
   "metadata": {},
   "outputs": [
    {
     "data": {
      "text/plain": [
       "SE    198\n",
       "MI    154\n",
       "EN     55\n",
       "EX      6\n",
       "Name: experience_level, dtype: int64"
      ]
     },
     "execution_count": 8,
     "metadata": {},
     "output_type": "execute_result"
    }
   ],
   "source": [
    "df.experience_level.value_counts()"
   ]
  },
  {
   "cell_type": "code",
   "execution_count": 9,
   "id": "3c4b1bcd",
   "metadata": {},
   "outputs": [
    {
     "data": {
      "text/plain": [
       "US    256\n",
       "GB     39\n",
       "DE     16\n",
       "IN     14\n",
       "Name: company_location, dtype: int64"
      ]
     },
     "execution_count": 9,
     "metadata": {},
     "output_type": "execute_result"
    }
   ],
   "source": [
    "df.company_location.value_counts().head(4)"
   ]
  },
  {
   "cell_type": "markdown",
   "id": "75820d1f",
   "metadata": {},
   "source": [
    "Посмотрим в какой стране наиболее высокие зарплаты средние зарплаты в Data Science у Middle специалистов"
   ]
  },
  {
   "cell_type": "code",
   "execution_count": 24,
   "id": "b738e294",
   "metadata": {},
   "outputs": [
    {
     "data": {
      "image/png": "[encoded data removed]",
      "text/plain": [
       "<Figure size 432x288 with 1 Axes>"
      ]
     },
     "metadata": {
      "needs_background": "light"
     },
     "output_type": "display_data"
    }
   ],
   "source": [
    "ds_salaries = df.query('job== \"Data Scientist\" & employment_type == \"FT\" & experience_level == \"MI\"') \\\n",
    "  .groupby(['job', 'company_location'], as_index=False) \\\n",
    "  .agg({'salary_in_usd': 'mean'}) \\\n",
    "  .sort_values('salary_in_usd', ascending=False).head()\n",
    "\n",
    "g = sns.barplot(data=ds_salaries, x='company_location', y = 'salary_in_usd')\n",
    "g.set(xticklabels=[\"USA\", \"China\", \"Israel\", 'United Kingdom', 'Australia']);"
   ]
  },
  {
   "cell_type": "markdown",
   "id": "52a869a8",
   "metadata": {},
   "source": [
    "Проверим, если ли какая-то корреляция/зависимость между страной происхождения человека и его зарплатой в США"
   ]
  },
  {
   "cell_type": "code",
   "execution_count": 15,
   "id": "5bf89979",
   "metadata": {},
   "outputs": [],
   "source": [
    "df_middles_ds = df.query('experience_level == \"MI\" & job == \"Data Scientist\" & company_location == \"US\" & \\\n",
    "                            employment_type == \"FT\"')"
   ]
  },
  {
   "cell_type": "code",
   "execution_count": 69,
   "id": "f21cf407",
   "metadata": {},
   "outputs": [
    {
     "data": {
      "text/plain": [
       "<AxesSubplot:xlabel='employee_residence', ylabel='salary_in_usd'>"
      ]
     },
     "execution_count": 69,
     "metadata": {},
     "output_type": "execute_result"
    },
    {
     "data": {
      "image/png": "[encoded data removed]",
      "text/plain": [
       "<Figure size 576x432 with 1 Axes>"
      ]
     },
     "metadata": {},
     "output_type": "display_data"
    }
   ],
   "source": [
    "salary_of_emp_countries = df_middles_ds \\\n",
    "    .groupby('employee_residence', as_index=False) \\\n",
    "    .agg({'salary_in_usd': 'mean'}) \\\n",
    "    .sort_values('salary_in_usd', ascending=False)\n",
    "\n",
    "sns.barplot(data=salary_of_emp_countries, x='employee_residence', y='salary_in_usd')\n"
   ]
  },
  {
   "cell_type": "markdown",
   "id": "e611f1db",
   "metadata": {},
   "source": [
    "Узнаем, есть ли какая-то разница между зарплатами в разных по размеру компаниях у Data Scientists"
   ]
  },
  {
   "cell_type": "code",
   "execution_count": 24,
   "id": "3cfb9c63",
   "metadata": {},
   "outputs": [
    {
     "data": {
      "image/png": "[encoded data removed]",
      "text/plain": [
       "<Figure size 432x288 with 1 Axes>"
      ]
     },
     "metadata": {
      "needs_background": "light"
     },
     "output_type": "display_data"
    }
   ],
   "source": [
    "salaries_of_company = df.query('experience_level != \"EX\" & job == \"Data Scientist\"') \\\n",
    "                        .groupby(['company_size', 'experience_level'], as_index = False) \\\n",
    "                        .agg({'salary_in_usd': 'mean'})\n",
    "\n",
    "sns.barplot(x=\"company_size\", y=\"salary_in_usd\", hue=\"experience_level\", data=salaries_of_company, order=[\"S\", \"M\", \"L\"]);"
   ]
  },
  {
   "cell_type": "markdown",
   "id": "ad67334c",
   "metadata": {},
   "source": [
    "Проверим, есть ли какая-то разница между зарплатами тех, кто работает на удаленке и в офисе."
   ]
  },
  {
   "cell_type": "code",
   "execution_count": 26,
   "id": "f3d1868d",
   "metadata": {},
   "outputs": [
    {
     "data": {
      "image/png": "[encoded data removed]",
      "text/plain": [
       "<Figure size 432x288 with 1 Axes>"
      ]
     },
     "metadata": {
      "needs_background": "light"
     },
     "output_type": "display_data"
    }
   ],
   "source": [
    "salaries_of_remote = df.query('experience_level != \"EX\" & job == \"Data Scientist\"') \\\n",
    "                        .groupby(['remote_ratio', 'experience_level'], as_index = False) \\\n",
    "                        .agg({'salary_in_usd': 'mean'})\n",
    "\n",
    "sns.barplot(x=\"remote_ratio\", y=\"salary_in_usd\", hue=\"experience_level\", data=salaries_of_remote);\n"
   ]
  },
  {
   "cell_type": "markdown",
   "id": "44e43571",
   "metadata": {},
   "source": [
    "Сделаем график по разным профессиям и узнаем, где больше всего получают специалисты разных уровней."
   ]
  },
  {
   "cell_type": "code",
   "execution_count": 52,
   "id": "cd7a546d",
   "metadata": {},
   "outputs": [
    {
     "data": {
      "image/png": "[encoded data removed]",
      "text/plain": [
       "<Figure size 576x288 with 1 Axes>"
      ]
     },
     "metadata": {},
     "output_type": "display_data"
    }
   ],
   "source": [
    "salaries_of_professions = df.query('experience_level != \"EX\"') \\\n",
    "                            .groupby(['job', 'experience_level'], as_index=False) \\\n",
    "                            .agg({'salary_in_usd': 'mean'})\n",
    "\n",
    "g = sns.barplot(x='job', y='salary_in_usd', hue='experience_level', data=salaries_of_professions)\n",
    "g = sns.set(rc={'figure.figsize':(9,4)})\n",
    "g"
   ]
  },
  {
   "cell_type": "markdown",
   "id": "85b8dfc4",
   "metadata": {},
   "source": [
    "Очень интересно посмотреть как менялись зарплаты у Data Scientists с 2020 по 2022 года. Сделаем для этого график."
   ]
  },
  {
   "cell_type": "code",
   "execution_count": 65,
   "id": "4fc7a1ee",
   "metadata": {},
   "outputs": [
    {
     "data": {
      "image/png": "[encoded data removed]",
      "text/plain": [
       "<Figure size 576x360 with 1 Axes>"
      ]
     },
     "metadata": {},
     "output_type": "display_data"
    }
   ],
   "source": [
    "salaries_of_years = df.query('experience_level != \"EX\" & job == \"Data Scientist\"') \\\n",
    "                      .groupby(['work_year', 'experience_level'], as_index=False) \\\n",
    "                      .agg({'salary_in_usd': 'mean'})\n",
    "sns.barplot(x='work_year', y='salary_in_usd', hue='experience_level', data=salaries_of_years)\n",
    "sns.set(rc={'figure.figsize':(8,6)})\n",
    "\n"
   ]
  },
  {
   "cell_type": "markdown",
   "id": "074526ea",
   "metadata": {},
   "source": [
    "В пандемию увеличилось количество людей, которые работают удаленно. Давайте отразим это на графике."
   ]
  },
  {
   "cell_type": "code",
   "execution_count": 64,
   "id": "2c5cf80a",
   "metadata": {},
   "outputs": [
    {
     "data": {
      "image/png": "[encoded data removed]",
      "text/plain": [
       "<Figure size 576x360 with 1 Axes>"
      ]
     },
     "metadata": {},
     "output_type": "display_data"
    }
   ],
   "source": [
    "people_on_remote = df.groupby(['work_year', 'remote_ratio'], as_index=False) \\\n",
    "                     .agg({'experience_level': 'count'}) \\\n",
    "                     .rename(columns={'experience_level': 'people'})\n",
    "\n",
    "\n",
    "sns.barplot(x='work_year', y='people', hue='remote_ratio', data=people_on_remote);"
   ]
  },
  {
   "cell_type": "code",
   "execution_count": null,
   "id": "08d2eba4",
   "metadata": {},
   "outputs": [],
   "source": []
  }
 ],
 "metadata": {
  "kernelspec": {
   "display_name": "Python 3 (ipykernel)",
   "language": "python",
   "name": "python3"
  },
  "language_info": {
   "codemirror_mode": {
    "name": "ipython",
    "version": 3
   },
   "file_extension": ".py",
   "mimetype": "text/x-python",
   "name": "python",
   "nbconvert_exporter": "python",
   "pygments_lexer": "ipython3",
   "version": "3.9.12"
  }
 },
 "nbformat": 4,
 "nbformat_minor": 5
}
