{
 "cells": [
  {
   "cell_type": "code",
   "execution_count": 4,
   "id": "ed36656c",
   "metadata": {},
   "outputs": [],
   "source": [
    "import pandas as pd\n",
    "import numpy as np\n",
    "import scipy.stats as stats"
   ]
  },
  {
   "cell_type": "markdown",
   "id": "84d07b51",
   "metadata": {},
   "source": [
    "### Все формулы и варианты т-тестов"
   ]
  },
  {
   "cell_type": "markdown",
   "id": "c0f2fb8a",
   "metadata": {},
   "source": [
    "![title](picture.png)"
   ]
  },
  {
   "cell_type": "code",
   "execution_count": 12,
   "id": "b22c9038",
   "metadata": {},
   "outputs": [
    {
     "name": "stdout",
     "output_type": "stream",
     "text": [
      "2.580754698065942\n",
      "2.5758293035489004\n",
      "0.8416212335729143\n"
     ]
    }
   ],
   "source": [
    "# нахождение t значения\n",
    "alpha = 0.01\n",
    "power = 0.8\n",
    "ddof = 1000\n",
    "print(stats.t.ppf(1 - alpha / 2, ddof))\n",
    "print(stats.norm.ppf(q=1-alpha/2)) # t значение для двух стороннего теста\n",
    "print(stats.norm.ppf(q=power))"
   ]
  },
  {
   "cell_type": "markdown",
   "id": "4c6d5515",
   "metadata": {},
   "source": [
    "### Одновыборочный t-критерий"
   ]
  },
  {
   "cell_type": "markdown",
   "id": "64da6133",
   "metadata": {},
   "source": [
    "**t-test для сравнения предполагаемого среднего значения и среднего значения в выборке.** \\\n",
    "\\\n",
    "t-статистика используется для проверки гипотезы о том, что среднее значение по совокупности равно заданному значению (mu) на основе выборочного среднего. \\\n",
    "\\\n",
    "Например, мы знаем среднее в ГС и хотим сравнить выборку со средним в ГС. Тогда используем ttest_1samp с параметрами: a - выборка, popmean - сравниваемое среднее. \\\n",
    "\\\n",
    "Интерпретировать выводы можно так: чем больше p-value, тем лучше. Единица говорит о 100% совпадении средних, а очень низкий p-value о том, что различия между средними большие."
   ]
  },
  {
   "cell_type": "code",
   "execution_count": 58,
   "id": "1ccfde62",
   "metadata": {},
   "outputs": [
    {
     "name": "stdout",
     "output_type": "stream",
     "text": [
      "Ttest_1sampResult(statistic=-1.5848116313861254, pvalue=0.1389944275158753)\n",
      "-1.5848116313861254\n"
     ]
    }
   ],
   "source": [
    "data = [ 300, 315, 320, 311, 314, 309, 300, 308, 305, 303, 305, 301, 303]\n",
    "m = np.mean(data)\n",
    "mu = 310 # сравниваемое число\n",
    "\n",
    "# сделаем тест в scipy\n",
    "print(stats.ttest_1samp(a=data, popmean=mu))\n",
    "\n",
    "# тот же тест вручную\n",
    "sd = np.std(data)\n",
    "n = np.sqrt(len(data)-1)\n",
    "\n",
    "t = (m - mu)/(sd/n)\n",
    "print(t)"
   ]
  },
  {
   "cell_type": "markdown",
   "id": "5186560f",
   "metadata": {},
   "source": [
    "### Т-тест для зависимых выборок (Парный т-тест)"
   ]
  },
  {
   "cell_type": "code",
   "execution_count": 87,
   "id": "73608c0b",
   "metadata": {},
   "outputs": [],
   "source": [
    "x1 = np.random.normal(loc=30, scale=10, size=100)\n",
    "x2 = np.random.normal(loc=35, scale=10, size=100)"
   ]
  },
  {
   "cell_type": "code",
   "execution_count": 88,
   "id": "9247dbd7",
   "metadata": {},
   "outputs": [
    {
     "name": "stdout",
     "output_type": "stream",
     "text": [
      "-4.180796937434012\n"
     ]
    }
   ],
   "source": [
    "diff = x1-x2\n",
    "mean_d = np.mean(diff)\n",
    "std_d = np.std(diff, ddof=1)\n",
    "N = np.sqrt(len(x1))\n",
    "\n",
    "t = (mean_d)/(std_d/N)\n",
    "print(t)"
   ]
  },
  {
   "cell_type": "code",
   "execution_count": 89,
   "id": "48b3ce41",
   "metadata": {},
   "outputs": [
    {
     "data": {
      "text/plain": [
       "Ttest_relResult(statistic=-4.180796937434012, pvalue=6.278989748954766e-05)"
      ]
     },
     "execution_count": 89,
     "metadata": {},
     "output_type": "execute_result"
    }
   ],
   "source": [
    "stats.ttest_rel(x1, x2)"
   ]
  },
  {
   "cell_type": "markdown",
   "id": "7f5d498c",
   "metadata": {},
   "source": [
    "### Т-тест для независимых выборок (Двухвыборочный т-тест)\n"
   ]
  },
  {
   "cell_type": "markdown",
   "id": "c75ecb40",
   "metadata": {},
   "source": [
    "**При разных дисперсиях**"
   ]
  },
  {
   "cell_type": "code",
   "execution_count": 90,
   "id": "378daf6f",
   "metadata": {},
   "outputs": [],
   "source": [
    "x1 = np.random.normal(loc=30, scale=10, size=100)\n",
    "x2 = np.random.normal(loc=35, scale=13, size=100)"
   ]
  },
  {
   "cell_type": "code",
   "execution_count": 91,
   "id": "0a859b34",
   "metadata": {},
   "outputs": [
    {
     "data": {
      "text/plain": [
       "Ttest_indResult(statistic=-2.4953008168074984, pvalue=0.013533262261072205)"
      ]
     },
     "execution_count": 91,
     "metadata": {},
     "output_type": "execute_result"
    }
   ],
   "source": [
    "stats.ttest_ind(x1, x2, equal_var=False)"
   ]
  },
  {
   "cell_type": "markdown",
   "id": "2ae050d5",
   "metadata": {},
   "source": [
    "**При одинаковых дисперсиях**\n"
   ]
  },
  {
   "cell_type": "code",
   "execution_count": 92,
   "id": "ab0c4e72",
   "metadata": {},
   "outputs": [],
   "source": [
    "x1 = np.random.normal(loc=30, scale=13, size=1000)\n",
    "x2 = np.random.normal(loc=32, scale=13, size=1000)"
   ]
  },
  {
   "cell_type": "code",
   "execution_count": 93,
   "id": "4519101e",
   "metadata": {},
   "outputs": [
    {
     "data": {
      "text/plain": [
       "Ttest_indResult(statistic=-1.565232575264042, pvalue=0.11768674457926946)"
      ]
     },
     "execution_count": 93,
     "metadata": {},
     "output_type": "execute_result"
    }
   ],
   "source": [
    "stats.ttest_ind(x1, x2, equal_var=True)"
   ]
  },
  {
   "cell_type": "code",
   "execution_count": null,
   "id": "a141237d",
   "metadata": {},
   "outputs": [],
   "source": []
  }
 ],
 "metadata": {
  "kernelspec": {
   "display_name": "Python 3 (ipykernel)",
   "language": "python",
   "name": "python3"
  },
  "language_info": {
   "codemirror_mode": {
    "name": "ipython",
    "version": 3
   },
   "file_extension": ".py",
   "mimetype": "text/x-python",
   "name": "python",
   "nbconvert_exporter": "python",
   "pygments_lexer": "ipython3",
   "version": "3.9.13"
  }
 },
 "nbformat": 4,
 "nbformat_minor": 5
}
